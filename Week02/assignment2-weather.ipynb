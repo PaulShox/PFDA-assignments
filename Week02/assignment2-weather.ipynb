{
 "cells": [
  {
   "cell_type": "markdown",
   "metadata": {},
   "source": [
    "# **Weather.ipynb**\n",
    "A program to plot \"dryBulbTemperature_Celsius\" temperature over time from a csv file\\\n",
    "Author: Paul O'Shaughnessy"
   ]
  },
  {
   "cell_type": "markdown",
   "metadata": {},
   "source": [
    "## **1. Setting up the Data**"
   ]
  },
  {
   "cell_type": "markdown",
   "metadata": {},
   "source": [
    "#### **1.1 Importing Libraries**\n",
    "\n",
    "- Pandas is a Python Library used for cleaning, analyzing and manipulating data. More information can be found [here](https://pandas.pydata.org/docs/)\n",
    "- Matplotlib is a comprehensive Python library for creating static, animated, and interactive visualizations in Python. More information can be found [here](https://matplotlib.org/)"
   ]
  },
  {
   "cell_type": "code",
   "execution_count": 3,
   "metadata": {},
   "outputs": [],
   "source": [
    "# Import Pandas\n",
    "import pandas as pd\n",
    "\n",
    "# Import Matplotlib\n",
    "import matplotlib.pyplot as plt\n"
   ]
  },
  {
   "cell_type": "markdown",
   "metadata": {},
   "source": [
    "#### **1.2 Loading the Data**   \n",
    "- The weatherreadings1 dataset, which is a csv file, is loaded using Pandas *read_csv* functionality.\n",
    "- The variable *weather* is assigned to the dataset for ease of use when writing Python code."
   ]
  },
  {
   "cell_type": "code",
   "execution_count": 4,
   "metadata": {},
   "outputs": [],
   "source": [
    "# Load the weatherreadings1 dataset\n",
    "weather = pd.read_csv('weatherreadings1.csv')"
   ]
  },
  {
   "cell_type": "markdown",
   "metadata": {},
   "source": [
    "#### **1.3 List Column Headers** "
   ]
  },
  {
   "cell_type": "code",
   "execution_count": 30,
   "metadata": {},
   "outputs": [
    {
     "name": "stdout",
     "output_type": "stream",
     "text": [
      "Index(['siteId', 'reportStartDateTime', 'reportEndDateTime', 'collectionName',\n",
      "       'isPublic', 'isLatestVersion', 'observationType', 'softwareType',\n",
      "       'windDirection', 'relativeHumidity', 'windSpeed_MilePerHour',\n",
      "       'windSpeed_MetrePerSecond', 'dryBulbTemperature_Fahrenheit',\n",
      "       'dryBulbTemperature_Celsius', 'wetBulbTemperature_Fahrenheit',\n",
      "       'wetBulbTemperature_Celsius', 'rainfallAmount_Inch',\n",
      "       'rainfallAmount_Millimetre', 'rainfallRate_InchPerHour',\n",
      "       'rainfallRate_MillimetrePerHour', 'airPressure_InchOfMercury',\n",
      "       'airPressure_Hectopascal', 'dewPointTemperature_Fahrenheit',\n",
      "       'dewPointTemperature_Celsius', 'isOfficial', 'isDcnn', 'longitude',\n",
      "       'latitude', 'height', 'id', 'localReportEndDateTime', 'externalSiteId',\n",
      "       'createdDateTime', 'version', 'externalId'],\n",
      "      dtype='object')\n"
     ]
    }
   ],
   "source": [
    "# Display the column header titles\n",
    "print(weather.columns)"
   ]
  },
  {
   "cell_type": "markdown",
   "metadata": {},
   "source": [
    "From the list of Column headers above, the required columns to plot the temperature are: \n",
    "- 'reportStartDateTime' \n",
    "- 'reportEndDateTime'  \n",
    "- 'dryBulbTemperature_Celsius' \n"
   ]
  },
  {
   "cell_type": "markdown",
   "metadata": {},
   "source": [
    "#### **1.4 Extract Relevant Columns to View How They Appear** "
   ]
  },
  {
   "cell_type": "code",
   "execution_count": 71,
   "metadata": {},
   "outputs": [
    {
     "data": {
      "text/html": [
       "<div>\n",
       "<style scoped>\n",
       "    .dataframe tbody tr th:only-of-type {\n",
       "        vertical-align: middle;\n",
       "    }\n",
       "\n",
       "    .dataframe tbody tr th {\n",
       "        vertical-align: top;\n",
       "    }\n",
       "\n",
       "    .dataframe thead th {\n",
       "        text-align: right;\n",
       "    }\n",
       "</style>\n",
       "<table border=\"1\" class=\"dataframe\">\n",
       "  <thead>\n",
       "    <tr style=\"text-align: right;\">\n",
       "      <th></th>\n",
       "      <th>reportStartDateTime</th>\n",
       "      <th>reportEndDateTime</th>\n",
       "      <th>dryBulbTemperature_Celsius</th>\n",
       "    </tr>\n",
       "  </thead>\n",
       "  <tbody>\n",
       "    <tr>\n",
       "      <th>0</th>\n",
       "      <td>2024-10-02T16:15:00+00:00</td>\n",
       "      <td>2024-10-02T16:15:00+00:00</td>\n",
       "      <td>15.944444</td>\n",
       "    </tr>\n",
       "    <tr>\n",
       "      <th>1</th>\n",
       "      <td>2024-10-02T16:45:00+00:00</td>\n",
       "      <td>2024-10-02T16:45:00+00:00</td>\n",
       "      <td>15.777778</td>\n",
       "    </tr>\n",
       "    <tr>\n",
       "      <th>2</th>\n",
       "      <td>2024-10-02T17:00:00+00:00</td>\n",
       "      <td>2024-10-02T17:00:00+00:00</td>\n",
       "      <td>15.111111</td>\n",
       "    </tr>\n",
       "    <tr>\n",
       "      <th>3</th>\n",
       "      <td>2024-10-02T17:15:00+00:00</td>\n",
       "      <td>2024-10-02T17:15:00+00:00</td>\n",
       "      <td>14.277778</td>\n",
       "    </tr>\n",
       "    <tr>\n",
       "      <th>4</th>\n",
       "      <td>2024-10-02T17:30:00+00:00</td>\n",
       "      <td>2024-10-02T17:30:00+00:00</td>\n",
       "      <td>13.666667</td>\n",
       "    </tr>\n",
       "  </tbody>\n",
       "</table>\n",
       "</div>"
      ],
      "text/plain": [
       "         reportStartDateTime          reportEndDateTime  \\\n",
       "0  2024-10-02T16:15:00+00:00  2024-10-02T16:15:00+00:00   \n",
       "1  2024-10-02T16:45:00+00:00  2024-10-02T16:45:00+00:00   \n",
       "2  2024-10-02T17:00:00+00:00  2024-10-02T17:00:00+00:00   \n",
       "3  2024-10-02T17:15:00+00:00  2024-10-02T17:15:00+00:00   \n",
       "4  2024-10-02T17:30:00+00:00  2024-10-02T17:30:00+00:00   \n",
       "\n",
       "   dryBulbTemperature_Celsius  \n",
       "0                   15.944444  \n",
       "1                   15.777778  \n",
       "2                   15.111111  \n",
       "3                   14.277778  \n",
       "4                   13.666667  "
      ]
     },
     "execution_count": 71,
     "metadata": {},
     "output_type": "execute_result"
    }
   ],
   "source": [
    "weather[['reportStartDateTime',\n",
    "         'reportEndDateTime',\n",
    "         'dryBulbTemperature_Celsius',\n",
    "]].head(5)"
   ]
  },
  {
   "cell_type": "markdown",
   "metadata": {},
   "source": [
    "#### **1.5 Create New Dataframe with End Date removed (as it's the same as Start Date Time), and Celsius values rounded to 1** "
   ]
  },
  {
   "cell_type": "code",
   "execution_count": 72,
   "metadata": {},
   "outputs": [],
   "source": [
    "# Round Celsius values to 1 decimal place\n",
    "temps = weather.round({'dryBulbTemperature_Celsius':1})"
   ]
  },
  {
   "cell_type": "code",
   "execution_count": 73,
   "metadata": {},
   "outputs": [
    {
     "data": {
      "text/html": [
       "<div>\n",
       "<style scoped>\n",
       "    .dataframe tbody tr th:only-of-type {\n",
       "        vertical-align: middle;\n",
       "    }\n",
       "\n",
       "    .dataframe tbody tr th {\n",
       "        vertical-align: top;\n",
       "    }\n",
       "\n",
       "    .dataframe thead th {\n",
       "        text-align: right;\n",
       "    }\n",
       "</style>\n",
       "<table border=\"1\" class=\"dataframe\">\n",
       "  <thead>\n",
       "    <tr style=\"text-align: right;\">\n",
       "      <th></th>\n",
       "      <th>reportStartDateTime</th>\n",
       "      <th>dryBulbTemperature_Celsius</th>\n",
       "    </tr>\n",
       "  </thead>\n",
       "  <tbody>\n",
       "    <tr>\n",
       "      <th>0</th>\n",
       "      <td>2024-10-02T16:15:00+00:00</td>\n",
       "      <td>15.9</td>\n",
       "    </tr>\n",
       "    <tr>\n",
       "      <th>1</th>\n",
       "      <td>2024-10-02T16:45:00+00:00</td>\n",
       "      <td>15.8</td>\n",
       "    </tr>\n",
       "    <tr>\n",
       "      <th>2</th>\n",
       "      <td>2024-10-02T17:00:00+00:00</td>\n",
       "      <td>15.1</td>\n",
       "    </tr>\n",
       "    <tr>\n",
       "      <th>3</th>\n",
       "      <td>2024-10-02T17:15:00+00:00</td>\n",
       "      <td>14.3</td>\n",
       "    </tr>\n",
       "    <tr>\n",
       "      <th>4</th>\n",
       "      <td>2024-10-02T17:30:00+00:00</td>\n",
       "      <td>13.7</td>\n",
       "    </tr>\n",
       "  </tbody>\n",
       "</table>\n",
       "</div>"
      ],
      "text/plain": [
       "         reportStartDateTime  dryBulbTemperature_Celsius\n",
       "0  2024-10-02T16:15:00+00:00                        15.9\n",
       "1  2024-10-02T16:45:00+00:00                        15.8\n",
       "2  2024-10-02T17:00:00+00:00                        15.1\n",
       "3  2024-10-02T17:15:00+00:00                        14.3\n",
       "4  2024-10-02T17:30:00+00:00                        13.7"
      ]
     },
     "execution_count": 73,
     "metadata": {},
     "output_type": "execute_result"
    }
   ],
   "source": [
    "# Create new Dataframe with End Date Time removed, and rounded Celsius values\n",
    "temps[['reportStartDateTime', 'dryBulbTemperature_Celsius',]].head(5)"
   ]
  }
 ],
 "metadata": {
  "kernelspec": {
   "display_name": "base",
   "language": "python",
   "name": "python3"
  },
  "language_info": {
   "codemirror_mode": {
    "name": "ipython",
    "version": 3
   },
   "file_extension": ".py",
   "mimetype": "text/x-python",
   "name": "python",
   "nbconvert_exporter": "python",
   "pygments_lexer": "ipython3",
   "version": "3.11.5"
  }
 },
 "nbformat": 4,
 "nbformat_minor": 2
}
