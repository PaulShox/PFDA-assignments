{
 "cells": [
  {
   "cell_type": "markdown",
   "metadata": {},
   "source": [
    "# **weather.ipynb**\n",
    "A program to plot temperature over time from a csv file\\\n",
    "Author: Paul O'Shaughnessy"
   ]
  },
  {
   "cell_type": "markdown",
   "metadata": {},
   "source": [
    "## **1. Setting up the Data**"
   ]
  },
  {
   "cell_type": "markdown",
   "metadata": {},
   "source": [
    "#### **1.1 Importing Libraries**\n",
    "\n",
    "- Pandas is a Python Library used for cleaning, analyzing and manipulating data. More information can be found [here](https://pandas.pydata.org/docs/)\n",
    "- NumPy is a Python Library for working with arrays, linear algebra, and matrices. More information can be found [here](https://numpy.org/)\n",
    "- Matplotlib is a comprehensive Python library for creating static, animated, and interactive visualizations in Python. More information can be found [here](https://matplotlib.org/)"
   ]
  },
  {
   "cell_type": "code",
   "execution_count": 3,
   "metadata": {},
   "outputs": [],
   "source": [
    "# Import Pandas\n",
    "import pandas as pd\n",
    "\n",
    "# Import Matplotlib\n",
    "import matplotlib.pyplot as plt\n",
    "\n",
    "# Import Numpy\n",
    "import numpy as np\n"
   ]
  },
  {
   "cell_type": "markdown",
   "metadata": {},
   "source": [
    "#### **1.2 Loading the Data**   \n",
    "- The weatherreadings1 dataset, which is a csv file, is loaded using Pandas *read_csv* functionality.\n",
    "- The variable *weather* is assigned to the dataset for ease of use when writing Python code."
   ]
  },
  {
   "cell_type": "code",
   "execution_count": 4,
   "metadata": {},
   "outputs": [],
   "source": [
    "# Load the weatherreadings1 dataset\n",
    "weather = pd.read_csv('weatherreadings1.csv')"
   ]
  },
  {
   "cell_type": "markdown",
   "metadata": {},
   "source": [
    "#### **1.3 List Column Headers** "
   ]
  },
  {
   "cell_type": "code",
   "execution_count": 30,
   "metadata": {},
   "outputs": [
    {
     "name": "stdout",
     "output_type": "stream",
     "text": [
      "Index(['siteId', 'reportStartDateTime', 'reportEndDateTime', 'collectionName',\n",
      "       'isPublic', 'isLatestVersion', 'observationType', 'softwareType',\n",
      "       'windDirection', 'relativeHumidity', 'windSpeed_MilePerHour',\n",
      "       'windSpeed_MetrePerSecond', 'dryBulbTemperature_Fahrenheit',\n",
      "       'dryBulbTemperature_Celsius', 'wetBulbTemperature_Fahrenheit',\n",
      "       'wetBulbTemperature_Celsius', 'rainfallAmount_Inch',\n",
      "       'rainfallAmount_Millimetre', 'rainfallRate_InchPerHour',\n",
      "       'rainfallRate_MillimetrePerHour', 'airPressure_InchOfMercury',\n",
      "       'airPressure_Hectopascal', 'dewPointTemperature_Fahrenheit',\n",
      "       'dewPointTemperature_Celsius', 'isOfficial', 'isDcnn', 'longitude',\n",
      "       'latitude', 'height', 'id', 'localReportEndDateTime', 'externalSiteId',\n",
      "       'createdDateTime', 'version', 'externalId'],\n",
      "      dtype='object')\n"
     ]
    }
   ],
   "source": [
    "# Display the column header titles\n",
    "print(weather.columns)"
   ]
  },
  {
   "cell_type": "markdown",
   "metadata": {},
   "source": [
    "From the list of Column headers above, the required columns to plot the temperature appear to be: \n",
    "- 'reportStartDateTime' \n",
    "- 'reportEndDateTime' \n",
    "- 'dryBulbTemperature_Fahrenheit' \n",
    "- 'dryBulbTemperature_Celsius' \n",
    "- 'wetBulbTemperature_Fahrenheit' \n",
    "- 'wetBulbTemperature_Celsius' \n",
    "- 'dewPointTemperature_Fahrenheit' \n",
    "- 'dewPointTemperature_Celsius'"
   ]
  },
  {
   "cell_type": "markdown",
   "metadata": {},
   "source": [
    "#### **1.4 Extract Relevant Columns to View How They Appear** "
   ]
  },
  {
   "cell_type": "code",
   "execution_count": 70,
   "metadata": {},
   "outputs": [
    {
     "data": {
      "text/html": [
       "<div>\n",
       "<style scoped>\n",
       "    .dataframe tbody tr th:only-of-type {\n",
       "        vertical-align: middle;\n",
       "    }\n",
       "\n",
       "    .dataframe tbody tr th {\n",
       "        vertical-align: top;\n",
       "    }\n",
       "\n",
       "    .dataframe thead th {\n",
       "        text-align: right;\n",
       "    }\n",
       "</style>\n",
       "<table border=\"1\" class=\"dataframe\">\n",
       "  <thead>\n",
       "    <tr style=\"text-align: right;\">\n",
       "      <th></th>\n",
       "      <th>reportStartDateTime</th>\n",
       "      <th>reportEndDateTime</th>\n",
       "      <th>dryBulbTemperature_Fahrenheit</th>\n",
       "      <th>dryBulbTemperature_Celsius</th>\n",
       "      <th>wetBulbTemperature_Fahrenheit</th>\n",
       "      <th>wetBulbTemperature_Celsius</th>\n",
       "      <th>dewPointTemperature_Fahrenheit</th>\n",
       "      <th>dewPointTemperature_Celsius</th>\n",
       "    </tr>\n",
       "  </thead>\n",
       "  <tbody>\n",
       "    <tr>\n",
       "      <th>0</th>\n",
       "      <td>2024-10-02T16:15:00+00:00</td>\n",
       "      <td>2024-10-02T16:15:00+00:00</td>\n",
       "      <td>60.7</td>\n",
       "      <td>15.944444</td>\n",
       "      <td>54.4</td>\n",
       "      <td>12.444444</td>\n",
       "      <td>51.0</td>\n",
       "      <td>10.555556</td>\n",
       "    </tr>\n",
       "    <tr>\n",
       "      <th>1</th>\n",
       "      <td>2024-10-02T16:45:00+00:00</td>\n",
       "      <td>2024-10-02T16:45:00+00:00</td>\n",
       "      <td>60.4</td>\n",
       "      <td>15.777778</td>\n",
       "      <td>54.7</td>\n",
       "      <td>12.611111</td>\n",
       "      <td>51.5</td>\n",
       "      <td>10.833333</td>\n",
       "    </tr>\n",
       "    <tr>\n",
       "      <th>2</th>\n",
       "      <td>2024-10-02T17:00:00+00:00</td>\n",
       "      <td>2024-10-02T17:00:00+00:00</td>\n",
       "      <td>59.2</td>\n",
       "      <td>15.111111</td>\n",
       "      <td>53.8</td>\n",
       "      <td>12.111111</td>\n",
       "      <td>50.7</td>\n",
       "      <td>10.388889</td>\n",
       "    </tr>\n",
       "    <tr>\n",
       "      <th>3</th>\n",
       "      <td>2024-10-02T17:15:00+00:00</td>\n",
       "      <td>2024-10-02T17:15:00+00:00</td>\n",
       "      <td>57.7</td>\n",
       "      <td>14.277778</td>\n",
       "      <td>52.8</td>\n",
       "      <td>11.555556</td>\n",
       "      <td>49.8</td>\n",
       "      <td>9.888889</td>\n",
       "    </tr>\n",
       "    <tr>\n",
       "      <th>4</th>\n",
       "      <td>2024-10-02T17:30:00+00:00</td>\n",
       "      <td>2024-10-02T17:30:00+00:00</td>\n",
       "      <td>56.6</td>\n",
       "      <td>13.666667</td>\n",
       "      <td>52.2</td>\n",
       "      <td>11.222222</td>\n",
       "      <td>49.5</td>\n",
       "      <td>9.722222</td>\n",
       "    </tr>\n",
       "  </tbody>\n",
       "</table>\n",
       "</div>"
      ],
      "text/plain": [
       "         reportStartDateTime          reportEndDateTime  \\\n",
       "0  2024-10-02T16:15:00+00:00  2024-10-02T16:15:00+00:00   \n",
       "1  2024-10-02T16:45:00+00:00  2024-10-02T16:45:00+00:00   \n",
       "2  2024-10-02T17:00:00+00:00  2024-10-02T17:00:00+00:00   \n",
       "3  2024-10-02T17:15:00+00:00  2024-10-02T17:15:00+00:00   \n",
       "4  2024-10-02T17:30:00+00:00  2024-10-02T17:30:00+00:00   \n",
       "\n",
       "   dryBulbTemperature_Fahrenheit  dryBulbTemperature_Celsius  \\\n",
       "0                           60.7                   15.944444   \n",
       "1                           60.4                   15.777778   \n",
       "2                           59.2                   15.111111   \n",
       "3                           57.7                   14.277778   \n",
       "4                           56.6                   13.666667   \n",
       "\n",
       "   wetBulbTemperature_Fahrenheit  wetBulbTemperature_Celsius  \\\n",
       "0                           54.4                   12.444444   \n",
       "1                           54.7                   12.611111   \n",
       "2                           53.8                   12.111111   \n",
       "3                           52.8                   11.555556   \n",
       "4                           52.2                   11.222222   \n",
       "\n",
       "   dewPointTemperature_Fahrenheit  dewPointTemperature_Celsius  \n",
       "0                            51.0                    10.555556  \n",
       "1                            51.5                    10.833333  \n",
       "2                            50.7                    10.388889  \n",
       "3                            49.8                     9.888889  \n",
       "4                            49.5                     9.722222  "
      ]
     },
     "execution_count": 70,
     "metadata": {},
     "output_type": "execute_result"
    }
   ],
   "source": [
    "weather[['reportStartDateTime',\n",
    "         'reportEndDateTime',\n",
    "         'dryBulbTemperature_Fahrenheit',\n",
    "         'dryBulbTemperature_Celsius',\n",
    "         'wetBulbTemperature_Fahrenheit',\n",
    "         'wetBulbTemperature_Celsius',\n",
    "         'dewPointTemperature_Fahrenheit',\n",
    "         'dewPointTemperature_Celsius']].head(5)"
   ]
  },
  {
   "cell_type": "markdown",
   "metadata": {},
   "source": [
    "#### **1.5 Create New Dataframe with End Date removed (as it's the same as Start Date Time), and Celsius values rounded to 1 (to be in line with Fahrenheit values)** "
   ]
  },
  {
   "cell_type": "code",
   "execution_count": 66,
   "metadata": {},
   "outputs": [],
   "source": [
    "# Round Celsius values to 1 decimal place\n",
    "temps = weather.round(\n",
    "    {'dryBulbTemperature_Celsius':1,\n",
    "     'wetBulbTemperature_Celsius':1,\n",
    "     'dewPointTemperature_Celsius':1}\n",
    ")"
   ]
  },
  {
   "cell_type": "code",
   "execution_count": 68,
   "metadata": {},
   "outputs": [
    {
     "data": {
      "text/html": [
       "<div>\n",
       "<style scoped>\n",
       "    .dataframe tbody tr th:only-of-type {\n",
       "        vertical-align: middle;\n",
       "    }\n",
       "\n",
       "    .dataframe tbody tr th {\n",
       "        vertical-align: top;\n",
       "    }\n",
       "\n",
       "    .dataframe thead th {\n",
       "        text-align: right;\n",
       "    }\n",
       "</style>\n",
       "<table border=\"1\" class=\"dataframe\">\n",
       "  <thead>\n",
       "    <tr style=\"text-align: right;\">\n",
       "      <th></th>\n",
       "      <th>reportStartDateTime</th>\n",
       "      <th>dryBulbTemperature_Fahrenheit</th>\n",
       "      <th>dryBulbTemperature_Celsius</th>\n",
       "      <th>wetBulbTemperature_Fahrenheit</th>\n",
       "      <th>wetBulbTemperature_Celsius</th>\n",
       "      <th>dewPointTemperature_Fahrenheit</th>\n",
       "      <th>dewPointTemperature_Celsius</th>\n",
       "    </tr>\n",
       "  </thead>\n",
       "  <tbody>\n",
       "    <tr>\n",
       "      <th>0</th>\n",
       "      <td>2024-10-02T16:15:00+00:00</td>\n",
       "      <td>60.7</td>\n",
       "      <td>15.9</td>\n",
       "      <td>54.4</td>\n",
       "      <td>12.4</td>\n",
       "      <td>51.0</td>\n",
       "      <td>10.6</td>\n",
       "    </tr>\n",
       "    <tr>\n",
       "      <th>1</th>\n",
       "      <td>2024-10-02T16:45:00+00:00</td>\n",
       "      <td>60.4</td>\n",
       "      <td>15.8</td>\n",
       "      <td>54.7</td>\n",
       "      <td>12.6</td>\n",
       "      <td>51.5</td>\n",
       "      <td>10.8</td>\n",
       "    </tr>\n",
       "    <tr>\n",
       "      <th>2</th>\n",
       "      <td>2024-10-02T17:00:00+00:00</td>\n",
       "      <td>59.2</td>\n",
       "      <td>15.1</td>\n",
       "      <td>53.8</td>\n",
       "      <td>12.1</td>\n",
       "      <td>50.7</td>\n",
       "      <td>10.4</td>\n",
       "    </tr>\n",
       "    <tr>\n",
       "      <th>3</th>\n",
       "      <td>2024-10-02T17:15:00+00:00</td>\n",
       "      <td>57.7</td>\n",
       "      <td>14.3</td>\n",
       "      <td>52.8</td>\n",
       "      <td>11.6</td>\n",
       "      <td>49.8</td>\n",
       "      <td>9.9</td>\n",
       "    </tr>\n",
       "    <tr>\n",
       "      <th>4</th>\n",
       "      <td>2024-10-02T17:30:00+00:00</td>\n",
       "      <td>56.6</td>\n",
       "      <td>13.7</td>\n",
       "      <td>52.2</td>\n",
       "      <td>11.2</td>\n",
       "      <td>49.5</td>\n",
       "      <td>9.7</td>\n",
       "    </tr>\n",
       "  </tbody>\n",
       "</table>\n",
       "</div>"
      ],
      "text/plain": [
       "         reportStartDateTime  dryBulbTemperature_Fahrenheit  \\\n",
       "0  2024-10-02T16:15:00+00:00                           60.7   \n",
       "1  2024-10-02T16:45:00+00:00                           60.4   \n",
       "2  2024-10-02T17:00:00+00:00                           59.2   \n",
       "3  2024-10-02T17:15:00+00:00                           57.7   \n",
       "4  2024-10-02T17:30:00+00:00                           56.6   \n",
       "\n",
       "   dryBulbTemperature_Celsius  wetBulbTemperature_Fahrenheit  \\\n",
       "0                        15.9                           54.4   \n",
       "1                        15.8                           54.7   \n",
       "2                        15.1                           53.8   \n",
       "3                        14.3                           52.8   \n",
       "4                        13.7                           52.2   \n",
       "\n",
       "   wetBulbTemperature_Celsius  dewPointTemperature_Fahrenheit  \\\n",
       "0                        12.4                            51.0   \n",
       "1                        12.6                            51.5   \n",
       "2                        12.1                            50.7   \n",
       "3                        11.6                            49.8   \n",
       "4                        11.2                            49.5   \n",
       "\n",
       "   dewPointTemperature_Celsius  \n",
       "0                         10.6  \n",
       "1                         10.8  \n",
       "2                         10.4  \n",
       "3                          9.9  \n",
       "4                          9.7  "
      ]
     },
     "execution_count": 68,
     "metadata": {},
     "output_type": "execute_result"
    }
   ],
   "source": [
    "# Create new Dataframe with End Date Time removed, and rounded Celsius values\n",
    "temps[['reportStartDateTime',\n",
    "       'dryBulbTemperature_Fahrenheit',\n",
    "       'dryBulbTemperature_Celsius',\n",
    "       'wetBulbTemperature_Fahrenheit',\n",
    "       'wetBulbTemperature_Celsius',\n",
    "       'dewPointTemperature_Fahrenheit',\n",
    "       'dewPointTemperature_Celsius']].head(5)"
   ]
  }
 ],
 "metadata": {
  "kernelspec": {
   "display_name": "base",
   "language": "python",
   "name": "python3"
  },
  "language_info": {
   "codemirror_mode": {
    "name": "ipython",
    "version": 3
   },
   "file_extension": ".py",
   "mimetype": "text/x-python",
   "name": "python",
   "nbconvert_exporter": "python",
   "pygments_lexer": "ipython3",
   "version": "3.11.5"
  }
 },
 "nbformat": 4,
 "nbformat_minor": 2
}
