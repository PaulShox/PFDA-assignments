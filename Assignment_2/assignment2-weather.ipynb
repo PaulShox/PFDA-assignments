{
 "cells": [
  {
   "cell_type": "markdown",
   "metadata": {},
   "source": [
    "# **Weather.ipynb**\n",
    "A program to plot \"dryBulbTemperature_Celsius\" temperature over time from a csv file\\\n",
    "Please refer to weather.py file for an interactive version of the end state graph where each x and y value is visible by hovering over each x,y point\\\n",
    "Author: Paul O'Shaughnessy"
   ]
  },
  {
   "cell_type": "markdown",
   "metadata": {},
   "source": [
    "## **1. Setting up the Data**"
   ]
  },
  {
   "cell_type": "markdown",
   "metadata": {},
   "source": [
    "#### **1.1 Importing Libraries**\n",
    "\n",
    "- Pandas is a Python Library used for cleaning, analyzing and manipulating data. More information can be found [here](https://pandas.pydata.org/docs/)\n",
    "- Matplotlib is a comprehensive Python library for creating static, animated, and interactive visualizations in Python. More information can be found [here](https://matplotlib.org/)\n",
    "- NumPy, which stands for Numerical Python, is a fundamental package for scientific computing in Python. More information can be found [here](https://numpy.org/)"
   ]
  },
  {
   "cell_type": "code",
   "execution_count": 1,
   "metadata": {},
   "outputs": [],
   "source": [
    "# Import Pandas\n",
    "import pandas as pd\n",
    "\n",
    "# Import Matplotlib\n",
    "import matplotlib.pyplot as plt\n",
    "\n",
    "# Import Numpy\n",
    "import numpy as np"
   ]
  },
  {
   "cell_type": "markdown",
   "metadata": {},
   "source": [
    "#### **1.2 Loading the Data**   \n",
    "- The weatherreadings1 dataset, which is a csv file, is loaded using Pandas *read_csv* functionality.\n",
    "- The variable *weather* is assigned to the dataset for ease of use when writing Python code."
   ]
  },
  {
   "cell_type": "code",
   "execution_count": 2,
   "metadata": {},
   "outputs": [],
   "source": [
    "# Load the weatherreadings1 dataset\n",
    "weather = pd.read_csv('weatherreadings1.csv')"
   ]
  },
  {
   "cell_type": "markdown",
   "metadata": {},
   "source": [
    "#### **1.3 List Column Headers** "
   ]
  },
  {
   "cell_type": "code",
   "execution_count": 3,
   "metadata": {},
   "outputs": [
    {
     "name": "stdout",
     "output_type": "stream",
     "text": [
      "Index(['siteId', 'reportStartDateTime', 'reportEndDateTime', 'collectionName',\n",
      "       'isPublic', 'isLatestVersion', 'observationType', 'softwareType',\n",
      "       'windDirection', 'relativeHumidity', 'windSpeed_MilePerHour',\n",
      "       'windSpeed_MetrePerSecond', 'dryBulbTemperature_Fahrenheit',\n",
      "       'dryBulbTemperature_Celsius', 'wetBulbTemperature_Fahrenheit',\n",
      "       'wetBulbTemperature_Celsius', 'rainfallAmount_Inch',\n",
      "       'rainfallAmount_Millimetre', 'rainfallRate_InchPerHour',\n",
      "       'rainfallRate_MillimetrePerHour', 'airPressure_InchOfMercury',\n",
      "       'airPressure_Hectopascal', 'dewPointTemperature_Fahrenheit',\n",
      "       'dewPointTemperature_Celsius', 'isOfficial', 'isDcnn', 'longitude',\n",
      "       'latitude', 'height', 'id', 'localReportEndDateTime', 'externalSiteId',\n",
      "       'createdDateTime', 'version', 'externalId'],\n",
      "      dtype='object')\n"
     ]
    }
   ],
   "source": [
    "# Display the column header titles\n",
    "print(weather.columns)"
   ]
  },
  {
   "cell_type": "markdown",
   "metadata": {},
   "source": [
    "From the list of Column headers above, the required columns to plot the temperature are: \n",
    "- 'reportStartDateTime' \n",
    "- 'reportEndDateTime'  \n",
    "- 'dryBulbTemperature_Celsius' \n"
   ]
  },
  {
   "cell_type": "markdown",
   "metadata": {},
   "source": [
    "#### **1.4 Extract Relevant Columns to View How They Appear** "
   ]
  },
  {
   "cell_type": "code",
   "execution_count": 4,
   "metadata": {},
   "outputs": [
    {
     "data": {
      "text/html": [
       "<div>\n",
       "<style scoped>\n",
       "    .dataframe tbody tr th:only-of-type {\n",
       "        vertical-align: middle;\n",
       "    }\n",
       "\n",
       "    .dataframe tbody tr th {\n",
       "        vertical-align: top;\n",
       "    }\n",
       "\n",
       "    .dataframe thead th {\n",
       "        text-align: right;\n",
       "    }\n",
       "</style>\n",
       "<table border=\"1\" class=\"dataframe\">\n",
       "  <thead>\n",
       "    <tr style=\"text-align: right;\">\n",
       "      <th></th>\n",
       "      <th>reportStartDateTime</th>\n",
       "      <th>reportEndDateTime</th>\n",
       "      <th>dryBulbTemperature_Celsius</th>\n",
       "    </tr>\n",
       "  </thead>\n",
       "  <tbody>\n",
       "    <tr>\n",
       "      <th>0</th>\n",
       "      <td>2024-10-02T16:15:00+00:00</td>\n",
       "      <td>2024-10-02T16:15:00+00:00</td>\n",
       "      <td>15.944444</td>\n",
       "    </tr>\n",
       "    <tr>\n",
       "      <th>1</th>\n",
       "      <td>2024-10-02T16:45:00+00:00</td>\n",
       "      <td>2024-10-02T16:45:00+00:00</td>\n",
       "      <td>15.777778</td>\n",
       "    </tr>\n",
       "    <tr>\n",
       "      <th>2</th>\n",
       "      <td>2024-10-02T17:00:00+00:00</td>\n",
       "      <td>2024-10-02T17:00:00+00:00</td>\n",
       "      <td>15.111111</td>\n",
       "    </tr>\n",
       "    <tr>\n",
       "      <th>3</th>\n",
       "      <td>2024-10-02T17:15:00+00:00</td>\n",
       "      <td>2024-10-02T17:15:00+00:00</td>\n",
       "      <td>14.277778</td>\n",
       "    </tr>\n",
       "    <tr>\n",
       "      <th>4</th>\n",
       "      <td>2024-10-02T17:30:00+00:00</td>\n",
       "      <td>2024-10-02T17:30:00+00:00</td>\n",
       "      <td>13.666667</td>\n",
       "    </tr>\n",
       "  </tbody>\n",
       "</table>\n",
       "</div>"
      ],
      "text/plain": [
       "         reportStartDateTime          reportEndDateTime  \\\n",
       "0  2024-10-02T16:15:00+00:00  2024-10-02T16:15:00+00:00   \n",
       "1  2024-10-02T16:45:00+00:00  2024-10-02T16:45:00+00:00   \n",
       "2  2024-10-02T17:00:00+00:00  2024-10-02T17:00:00+00:00   \n",
       "3  2024-10-02T17:15:00+00:00  2024-10-02T17:15:00+00:00   \n",
       "4  2024-10-02T17:30:00+00:00  2024-10-02T17:30:00+00:00   \n",
       "\n",
       "   dryBulbTemperature_Celsius  \n",
       "0                   15.944444  \n",
       "1                   15.777778  \n",
       "2                   15.111111  \n",
       "3                   14.277778  \n",
       "4                   13.666667  "
      ]
     },
     "execution_count": 4,
     "metadata": {},
     "output_type": "execute_result"
    }
   ],
   "source": [
    "weather[['reportStartDateTime',\n",
    "         'reportEndDateTime',\n",
    "         'dryBulbTemperature_Celsius',\n",
    "]].head(5)"
   ]
  },
  {
   "cell_type": "markdown",
   "metadata": {},
   "source": [
    "#### **1.5 Create New Dataframe with just Start Date Time (as it's the same as End Date Time), and only dryBulbTemperatures_Celsius values** "
   ]
  },
  {
   "cell_type": "code",
   "execution_count": 5,
   "metadata": {},
   "outputs": [
    {
     "data": {
      "text/html": [
       "<div>\n",
       "<style scoped>\n",
       "    .dataframe tbody tr th:only-of-type {\n",
       "        vertical-align: middle;\n",
       "    }\n",
       "\n",
       "    .dataframe tbody tr th {\n",
       "        vertical-align: top;\n",
       "    }\n",
       "\n",
       "    .dataframe thead th {\n",
       "        text-align: right;\n",
       "    }\n",
       "</style>\n",
       "<table border=\"1\" class=\"dataframe\">\n",
       "  <thead>\n",
       "    <tr style=\"text-align: right;\">\n",
       "      <th></th>\n",
       "      <th>reportStartDateTime</th>\n",
       "      <th>dryBulbTemperature_Celsius</th>\n",
       "    </tr>\n",
       "  </thead>\n",
       "  <tbody>\n",
       "    <tr>\n",
       "      <th>0</th>\n",
       "      <td>2024-10-02T16:15:00+00:00</td>\n",
       "      <td>15.944444</td>\n",
       "    </tr>\n",
       "    <tr>\n",
       "      <th>1</th>\n",
       "      <td>2024-10-02T16:45:00+00:00</td>\n",
       "      <td>15.777778</td>\n",
       "    </tr>\n",
       "    <tr>\n",
       "      <th>2</th>\n",
       "      <td>2024-10-02T17:00:00+00:00</td>\n",
       "      <td>15.111111</td>\n",
       "    </tr>\n",
       "    <tr>\n",
       "      <th>3</th>\n",
       "      <td>2024-10-02T17:15:00+00:00</td>\n",
       "      <td>14.277778</td>\n",
       "    </tr>\n",
       "    <tr>\n",
       "      <th>4</th>\n",
       "      <td>2024-10-02T17:30:00+00:00</td>\n",
       "      <td>13.666667</td>\n",
       "    </tr>\n",
       "    <tr>\n",
       "      <th>...</th>\n",
       "      <td>...</td>\n",
       "      <td>...</td>\n",
       "    </tr>\n",
       "    <tr>\n",
       "      <th>84</th>\n",
       "      <td>2024-10-03T14:00:00+00:00</td>\n",
       "      <td>14.611111</td>\n",
       "    </tr>\n",
       "    <tr>\n",
       "      <th>85</th>\n",
       "      <td>2024-10-03T14:15:00+00:00</td>\n",
       "      <td>14.944444</td>\n",
       "    </tr>\n",
       "    <tr>\n",
       "      <th>86</th>\n",
       "      <td>2024-10-03T14:30:00+00:00</td>\n",
       "      <td>14.944444</td>\n",
       "    </tr>\n",
       "    <tr>\n",
       "      <th>87</th>\n",
       "      <td>2024-10-03T14:45:00+00:00</td>\n",
       "      <td>14.944444</td>\n",
       "    </tr>\n",
       "    <tr>\n",
       "      <th>88</th>\n",
       "      <td>2024-10-03T15:00:00+00:00</td>\n",
       "      <td>14.722222</td>\n",
       "    </tr>\n",
       "  </tbody>\n",
       "</table>\n",
       "<p>89 rows × 2 columns</p>\n",
       "</div>"
      ],
      "text/plain": [
       "          reportStartDateTime  dryBulbTemperature_Celsius\n",
       "0   2024-10-02T16:15:00+00:00                   15.944444\n",
       "1   2024-10-02T16:45:00+00:00                   15.777778\n",
       "2   2024-10-02T17:00:00+00:00                   15.111111\n",
       "3   2024-10-02T17:15:00+00:00                   14.277778\n",
       "4   2024-10-02T17:30:00+00:00                   13.666667\n",
       "..                        ...                         ...\n",
       "84  2024-10-03T14:00:00+00:00                   14.611111\n",
       "85  2024-10-03T14:15:00+00:00                   14.944444\n",
       "86  2024-10-03T14:30:00+00:00                   14.944444\n",
       "87  2024-10-03T14:45:00+00:00                   14.944444\n",
       "88  2024-10-03T15:00:00+00:00                   14.722222\n",
       "\n",
       "[89 rows x 2 columns]"
      ]
     },
     "execution_count": 5,
     "metadata": {},
     "output_type": "execute_result"
    }
   ],
   "source": [
    "# Extract reportStartDateTime and dryBulnTemperature_Celsius columns from weather dataframe and assign the name temps to the new dataframe\n",
    "temps = weather[['reportStartDateTime', 'dryBulbTemperature_Celsius']]\n",
    "temps"
   ]
  },
  {
   "cell_type": "markdown",
   "metadata": {},
   "source": [
    "#### **1.6 Check Column Datatypes** "
   ]
  },
  {
   "cell_type": "code",
   "execution_count": 6,
   "metadata": {},
   "outputs": [
    {
     "data": {
      "text/plain": [
       "reportStartDateTime            object\n",
       "dryBulbTemperature_Celsius    float64\n",
       "dtype: object"
      ]
     },
     "execution_count": 6,
     "metadata": {},
     "output_type": "execute_result"
    }
   ],
   "source": [
    "temps.dtypes"
   ]
  },
  {
   "cell_type": "markdown",
   "metadata": {},
   "source": [
    "#### **1.7 The reportStartDateTime column imported as an 'object' type. Change to 'datetime\" data type.** \n"
   ]
  },
  {
   "cell_type": "code",
   "execution_count": 7,
   "metadata": {},
   "outputs": [],
   "source": [
    "# Import datetime module\n",
    "from datetime import datetime # https://www.geeksforgeeks.org/python-datetime-module/"
   ]
  },
  {
   "cell_type": "code",
   "execution_count": 17,
   "metadata": {},
   "outputs": [
    {
     "name": "stderr",
     "output_type": "stream",
     "text": [
      "C:\\Users\\posea\\AppData\\Local\\Temp\\ipykernel_12748\\2680303679.py:2: SettingWithCopyWarning: \n",
      "A value is trying to be set on a copy of a slice from a DataFrame.\n",
      "Try using .loc[row_indexer,col_indexer] = value instead\n",
      "\n",
      "See the caveats in the documentation: https://pandas.pydata.org/pandas-docs/stable/user_guide/indexing.html#returning-a-view-versus-a-copy\n",
      "  temps['reportStartDateTime'] = pd.to_datetime(temps['reportStartDateTime'])\n"
     ]
    }
   ],
   "source": [
    "#Convert reportStartDateTime column to 'datetime' datatype\n",
    "temps['reportStartDateTime'] = pd.to_datetime(temps['reportStartDateTime']) # https://www.geeksforgeeks.org/python-pandas-to_datetime/"
   ]
  },
  {
   "cell_type": "code",
   "execution_count": 18,
   "metadata": {},
   "outputs": [
    {
     "name": "stderr",
     "output_type": "stream",
     "text": [
      "C:\\Users\\posea\\AppData\\Local\\Temp\\ipykernel_12748\\1951939928.py:2: SettingWithCopyWarning: \n",
      "A value is trying to be set on a copy of a slice from a DataFrame.\n",
      "Try using .loc[row_indexer,col_indexer] = value instead\n",
      "\n",
      "See the caveats in the documentation: https://pandas.pydata.org/pandas-docs/stable/user_guide/indexing.html#returning-a-view-versus-a-copy\n",
      "  temps['reportStartDateTime'] = temps['reportStartDateTime'].dt.strftime('%m-%d %H:%M')\n"
     ]
    }
   ],
   "source": [
    "# Remove 2024 and +00:00 from reportStartDateTime column\n",
    "temps['reportStartDateTime'] = temps['reportStartDateTime'].dt.strftime('%m-%d %H:%M') # https://www.geeksforgeeks.org/how-to-change-the-pandas-datetime-format-in-python/?ref=header_outind\n"
   ]
  },
  {
   "cell_type": "code",
   "execution_count": 19,
   "metadata": {},
   "outputs": [
    {
     "data": {
      "text/html": [
       "<div>\n",
       "<style scoped>\n",
       "    .dataframe tbody tr th:only-of-type {\n",
       "        vertical-align: middle;\n",
       "    }\n",
       "\n",
       "    .dataframe tbody tr th {\n",
       "        vertical-align: top;\n",
       "    }\n",
       "\n",
       "    .dataframe thead th {\n",
       "        text-align: right;\n",
       "    }\n",
       "</style>\n",
       "<table border=\"1\" class=\"dataframe\">\n",
       "  <thead>\n",
       "    <tr style=\"text-align: right;\">\n",
       "      <th></th>\n",
       "      <th>reportStartDateTime</th>\n",
       "      <th>dryBulbTemperature_Celsius</th>\n",
       "    </tr>\n",
       "  </thead>\n",
       "  <tbody>\n",
       "    <tr>\n",
       "      <th>0</th>\n",
       "      <td>10-02 16:15</td>\n",
       "      <td>15.944444</td>\n",
       "    </tr>\n",
       "    <tr>\n",
       "      <th>1</th>\n",
       "      <td>10-02 16:45</td>\n",
       "      <td>15.777778</td>\n",
       "    </tr>\n",
       "    <tr>\n",
       "      <th>2</th>\n",
       "      <td>10-02 17:00</td>\n",
       "      <td>15.111111</td>\n",
       "    </tr>\n",
       "    <tr>\n",
       "      <th>3</th>\n",
       "      <td>10-02 17:15</td>\n",
       "      <td>14.277778</td>\n",
       "    </tr>\n",
       "    <tr>\n",
       "      <th>4</th>\n",
       "      <td>10-02 17:30</td>\n",
       "      <td>13.666667</td>\n",
       "    </tr>\n",
       "    <tr>\n",
       "      <th>...</th>\n",
       "      <td>...</td>\n",
       "      <td>...</td>\n",
       "    </tr>\n",
       "    <tr>\n",
       "      <th>84</th>\n",
       "      <td>10-03 14:00</td>\n",
       "      <td>14.611111</td>\n",
       "    </tr>\n",
       "    <tr>\n",
       "      <th>85</th>\n",
       "      <td>10-03 14:15</td>\n",
       "      <td>14.944444</td>\n",
       "    </tr>\n",
       "    <tr>\n",
       "      <th>86</th>\n",
       "      <td>10-03 14:30</td>\n",
       "      <td>14.944444</td>\n",
       "    </tr>\n",
       "    <tr>\n",
       "      <th>87</th>\n",
       "      <td>10-03 14:45</td>\n",
       "      <td>14.944444</td>\n",
       "    </tr>\n",
       "    <tr>\n",
       "      <th>88</th>\n",
       "      <td>10-03 15:00</td>\n",
       "      <td>14.722222</td>\n",
       "    </tr>\n",
       "  </tbody>\n",
       "</table>\n",
       "<p>89 rows × 2 columns</p>\n",
       "</div>"
      ],
      "text/plain": [
       "   reportStartDateTime  dryBulbTemperature_Celsius\n",
       "0          10-02 16:15                   15.944444\n",
       "1          10-02 16:45                   15.777778\n",
       "2          10-02 17:00                   15.111111\n",
       "3          10-02 17:15                   14.277778\n",
       "4          10-02 17:30                   13.666667\n",
       "..                 ...                         ...\n",
       "84         10-03 14:00                   14.611111\n",
       "85         10-03 14:15                   14.944444\n",
       "86         10-03 14:30                   14.944444\n",
       "87         10-03 14:45                   14.944444\n",
       "88         10-03 15:00                   14.722222\n",
       "\n",
       "[89 rows x 2 columns]"
      ]
     },
     "execution_count": 19,
     "metadata": {},
     "output_type": "execute_result"
    }
   ],
   "source": [
    "# Check the datetime format has changed as expected\n",
    "temps"
   ]
  },
  {
   "cell_type": "markdown",
   "metadata": {},
   "source": [
    "#### **1.8 Calculate the mean, max, min temperature values to include in the graph** "
   ]
  },
  {
   "cell_type": "code",
   "execution_count": 32,
   "metadata": {},
   "outputs": [
    {
     "data": {
      "text/plain": [
       "11.683520599250933"
      ]
     },
     "execution_count": 32,
     "metadata": {},
     "output_type": "execute_result"
    }
   ],
   "source": [
    "# Mean temperature value\n",
    "np.mean(y) # https://www.geeksforgeeks.org/numpy-mean-in-python/"
   ]
  },
  {
   "cell_type": "code",
   "execution_count": 33,
   "metadata": {},
   "outputs": [
    {
     "data": {
      "text/plain": [
       "15.944444444444446"
      ]
     },
     "execution_count": 33,
     "metadata": {},
     "output_type": "execute_result"
    }
   ],
   "source": [
    "# Maximum temperature value\n",
    "np.max(y) # https://www.geeksforgeeks.org/find-the-maximum-and-minimum-element-in-a-numpy-array/"
   ]
  },
  {
   "cell_type": "code",
   "execution_count": 34,
   "metadata": {},
   "outputs": [
    {
     "data": {
      "text/plain": [
       "9.166666666666666"
      ]
     },
     "execution_count": 34,
     "metadata": {},
     "output_type": "execute_result"
    }
   ],
   "source": [
    "#Minimum temperature value\n",
    "np.min(y) # https://www.geeksforgeeks.org/find-the-maximum-and-minimum-element-in-a-numpy-array/"
   ]
  },
  {
   "cell_type": "markdown",
   "metadata": {},
   "source": [
    "#### **1.9 Assign variables to x-axis, y-axis, and mean line** "
   ]
  },
  {
   "cell_type": "code",
   "execution_count": 27,
   "metadata": {},
   "outputs": [],
   "source": [
    "# Instruct which cloumns from dataframe to apply to graph\n",
    "x = temps['reportStartDateTime']\n",
    "y = temps['dryBulbTemperature_Celsius']\n",
    "\n",
    "# Apply a line on the graph for the mean temperature value\n",
    "mean_y = np.mean(y) # https://www.statology.org/matplotlib-average-line/"
   ]
  },
  {
   "cell_type": "markdown",
   "metadata": {},
   "source": [
    "#### **2.0 Plot graph, values, and formatting** "
   ]
  },
  {
   "cell_type": "code",
   "execution_count": 87,
   "metadata": {},
   "outputs": [
    {
     "data": {
      "text/plain": [
       "<function matplotlib.pyplot.show(close=None, block=None)>"
      ]
     },
     "execution_count": 87,
     "metadata": {},
     "output_type": "execute_result"
    },
    {
     "data": {
      "image/png": "[encoded data removed]",
      "text/plain": [
       "<Figure size 2500x700 with 1 Axes>"
      ]
     },
     "metadata": {},
     "output_type": "display_data"
    }
   ],
   "source": [
    "\n",
    "# Apply a graph style, create plot and size plot\n",
    "plt.style.use('ggplot') # https://matplotlib.org/stable/gallery/style_sheets/style_sheets_reference.html\n",
    "fig, ax = plt.subplots(figsize=(25, 7))\n",
    "\n",
    "# Create a line and scatter plot in the same graph\n",
    "ax.plot(x, y,)\n",
    "ax.scatter(x, y)\n",
    "\n",
    "# Input title and labels for x and y axes. https://matplotlib.org/stable/users/explain/text/text_intro.html\n",
    "ax.set_title('Dry Bulb Temperatures - October 2nd & 3rd 2024', pad=20, fontsize=18, fontweight='bold')\n",
    "ax.set_xlabel('Date_Time', fontsize=14, fontweight='bold')\n",
    "ax.set_ylabel('Temperature (Celsius)', fontsize=14, fontweight='bold')\n",
    "\n",
    "# Insert pointers to max, min, and mean values. https://matplotlib.org/stable/api/_as_gen/matplotlib.pyplot.annotate.html#matplotlib.pyplot.annotate\n",
    "ax.annotate('Highest Temp - 15.94', (0, 16), xytext=(4, 16), arrowprops=dict(facecolor='black', shrink=0.1, width=2))\n",
    "ax.annotate('Lowest Temp - 9.17', (31, 9.17), xytext=(31, 10.2), arrowprops=dict(facecolor='black', shrink=0.1, width=2))\n",
    "ax.annotate('Mean Temp - 11.68', (75, 11.68), xytext=(78, 12.5), arrowprops=dict(facecolor='blue', shrink=0.1, width=2))\n",
    "\n",
    "# Insert a line for mean value. https://www.statology.org/matplotlib-average-line/\n",
    "plt.axhline(y=mean_y, color='b', linestyle='--', linewidth=2) \n",
    "\n",
    "# Apply x-axis ticks and rotate x-axis dates 45 degrees\n",
    "labels = ax.get_xticklabels()\n",
    "plt.setp(labels, rotation=45, horizontalalignment='right')\n",
    "\n",
    "plt.show"
   ]
  },
  {
   "cell_type": "markdown",
   "metadata": {},
   "source": [
    "# **End**\n",
    "____________________________"
   ]
  }
 ],
 "metadata": {
  "kernelspec": {
   "display_name": "base",
   "language": "python",
   "name": "python3"
  },
  "language_info": {
   "codemirror_mode": {
    "name": "ipython",
    "version": 3
   },
   "file_extension": ".py",
   "mimetype": "text/x-python",
   "name": "python",
   "nbconvert_exporter": "python",
   "pygments_lexer": "ipython3",
   "version": "3.11.5"
  }
 },
 "nbformat": 4,
 "nbformat_minor": 2
}
