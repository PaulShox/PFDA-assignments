{
 "cells": [
  {
   "cell_type": "markdown",
   "metadata": {},
   "source": [
    "# **assignment03-pie.ipynb**\n",
    "### A project to display email domains from a csv file in a pie chart\n",
    "### Author: Paul O'Shaughnessy"
   ]
  }
 ],
 "metadata": {
  "language_info": {
   "name": "python"
  }
 },
 "nbformat": 4,
 "nbformat_minor": 2
}
